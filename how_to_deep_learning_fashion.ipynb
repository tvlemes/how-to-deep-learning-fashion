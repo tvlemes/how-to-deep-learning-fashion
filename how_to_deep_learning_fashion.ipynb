{
  "nbformat": 4,
  "nbformat_minor": 0,
  "metadata": {
    "colab": {
      "provenance": [],
      "collapsed_sections": [],
      "toc_visible": true
    },
    "kernelspec": {
      "name": "python3",
      "display_name": "Python 3"
    },
    "language_info": {
      "name": "python"
    },
    "accelerator": "GPU",
    "gpuClass": "standard"
  },
  "cells": [
    {
      "cell_type": "markdown",
      "source": [
        "# <b>How to - Deep Learning</b> \n",
        "\n",
        "Autor: <b>Thiago Vilarinho Lemes</b> <br>\n",
        "Data: 12/11/2022 <br>\n",
        "e-mail: contatothiagolemes@gmail.com  <br>\n",
        "LinkedIn: https://www.linkedin.com/in/thiago-vilarinho-lemes-b1232727/\n",
        "\n",
        "<b>Descrição</b>: Este <i>How to</i> tem como objetivo ter uma referência para classificar e medir a acurácia de imagens utilizando a biblioteca <i>KERAS</i> com <i>MLPClassifier</i> com figuras de tons de cinza da mesma.\n",
        "\n",
        "<b>Ref.: </b>https://keras.io/api/datasets/fashion_mnist/"
      ],
      "metadata": {
        "id": "VUQkQj2OrWFC"
      }
    },
    {
      "cell_type": "code",
      "execution_count": 1,
      "metadata": {
        "colab": {
          "base_uri": "https://localhost:8080/"
        },
        "id": "zDnVMGIwrFDu",
        "outputId": "a4b3effb-940c-4912-ce5f-c0a6312d106c"
      },
      "outputs": [
        {
          "output_type": "stream",
          "name": "stdout",
          "text": [
            "Mounted at /content/drive\n"
          ]
        }
      ],
      "source": [
        "# Montando o Google Drive.\n",
        "from google.colab import drive\n",
        "drive.mount('/content/drive')"
      ]
    },
    {
      "cell_type": "markdown",
      "source": [
        "## Importando bibliotecas"
      ],
      "metadata": {
        "id": "NuzNF5k41X-t"
      }
    },
    {
      "cell_type": "code",
      "source": [
        "from keras.utils import to_categorical # Biblioteca para transformar variáveis em variáveis categoricas.\n",
        "from sklearn.neural_network import MLPClassifier # Algoritmo de Rede Neural.\n",
        "\n",
        "import numpy as np\n",
        "import pandas as pd\n",
        "import matplotlib.pyplot as plt"
      ],
      "metadata": {
        "id": "bmTSo3k91Wm-"
      },
      "execution_count": null,
      "outputs": []
    },
    {
      "cell_type": "markdown",
      "source": [
        "## Importando o dataset"
      ],
      "metadata": {
        "id": "6T5otn3wxbY5"
      }
    },
    {
      "cell_type": "code",
      "source": [
        "# Importando o dataset do keras.\n",
        "# Logo em seguida é criado os dataset´s X_train, y_train, X_test, y_test.\n",
        "from keras.datasets import fashion_mnist\n",
        "(X_train, y_train), (X_test, y_test) = fashion_mnist.load_data()"
      ],
      "metadata": {
        "id": "e0XOmATOunKM"
      },
      "execution_count": null,
      "outputs": []
    },
    {
      "cell_type": "markdown",
      "source": [
        "## Verificando o dataset"
      ],
      "metadata": {
        "id": "vzdtXpTXx0np"
      }
    },
    {
      "cell_type": "code",
      "source": [
        "print(f'Treinamento X_train: {X_train.shape} | Teste: y_train: {y_train.shape}')\n",
        "print(f'Treinamento X_test:  {X_test.shape} | Teste: y_test:  {y_test.shape}')"
      ],
      "metadata": {
        "colab": {
          "base_uri": "https://localhost:8080/"
        },
        "id": "x4np4zCjxtMO",
        "outputId": "d1fae162-e7cc-41c7-abbe-f85d0a526dbb"
      },
      "execution_count": null,
      "outputs": [
        {
          "output_type": "stream",
          "name": "stdout",
          "text": [
            "Treinamento X_train: (60000, 28, 28) | Teste: y_train: (60000,)\n",
            "Treinamento X_test:  (10000, 28, 28) | Teste: y_test:  (10000,)\n"
          ]
        }
      ]
    },
    {
      "cell_type": "code",
      "source": [
        "# Verificando os tipos de X_train, y_train.\n",
        "print('Dataset types:', X_train.dtype, y_train.dtype)"
      ],
      "metadata": {
        "colab": {
          "base_uri": "https://localhost:8080/"
        },
        "id": "QgZiZgwdyMU9",
        "outputId": "235e94f8-0bcb-4ace-cbe9-07149c51c666"
      },
      "execution_count": null,
      "outputs": [
        {
          "output_type": "stream",
          "name": "stdout",
          "text": [
            "Dataset types: uint8 uint8\n"
          ]
        }
      ]
    },
    {
      "cell_type": "markdown",
      "source": [
        "## Plotando uma imagem"
      ],
      "metadata": {
        "id": "fUXC1GQrzei-"
      }
    },
    {
      "cell_type": "code",
      "source": [
        "# Plotando uma imagem a partir da feature.\n",
        "%matplotlib inline\n",
        "\n",
        "# Expecifica o tamanho da imagem.\n",
        "plt.rcParams['figure.figsize'] = 3, 3\n",
        "\n",
        "print(f'Classe da imagem: {y_train[0]}')\n",
        "print()\n",
        "plt.imshow(X_train[0, :, :], cmap='gray');"
      ],
      "metadata": {
        "colab": {
          "base_uri": "https://localhost:8080/",
          "height": 248
        },
        "id": "Z-HUE1_wzMCg",
        "outputId": "2f7785f7-ba76-40b6-afb3-ede554c6985b"
      },
      "execution_count": null,
      "outputs": [
        {
          "output_type": "stream",
          "name": "stdout",
          "text": [
            "Classe da imagem: 9\n",
            "\n"
          ]
        },
        {
          "output_type": "display_data",
          "data": {
            "text/plain": [
              "<Figure size 216x216 with 1 Axes>"
            ],
            "image/png": "[encoded data removed]"
          },
          "metadata": {
            "needs_background": "light"
          }
        }
      ]
    },
    {
      "cell_type": "code",
      "source": [
        "# Verificando o valor mínimo e máximo para X_train e as classes da target.\n",
        "print('Range de Pixel: (%d, %d)' % (X_train.min(), X_train.max()))\n",
        "print('Classes:', np.unique(y_train))"
      ],
      "metadata": {
        "colab": {
          "base_uri": "https://localhost:8080/"
        },
        "id": "uF31RuBczl3P",
        "outputId": "ec50ca2c-c22c-4657-9f45-2c56066d69c4"
      },
      "execution_count": null,
      "outputs": [
        {
          "output_type": "stream",
          "name": "stdout",
          "text": [
            "Range de Pixel: (0, 255)\n",
            "Classes: [0 1 2 3 4 5 6 7 8 9]\n"
          ]
        }
      ]
    },
    {
      "cell_type": "markdown",
      "source": [
        "## Preparando os dados"
      ],
      "metadata": {
        "id": "p6qSWTZK2Kjs"
      }
    },
    {
      "cell_type": "markdown",
      "source": [
        "## Transformando as imagens em um vetor"
      ],
      "metadata": {
        "id": "8wCFXRnt2SdK"
      }
    },
    {
      "cell_type": "code",
      "source": [
        "X_train = X_train.reshape(60000, 784)\n",
        "X_test = X_test.reshape(10000, 784)"
      ],
      "metadata": {
        "id": "XqZMaVE414no"
      },
      "execution_count": null,
      "outputs": []
    },
    {
      "cell_type": "code",
      "source": [
        "print(X_train.shape, X_test.shape)"
      ],
      "metadata": {
        "colab": {
          "base_uri": "https://localhost:8080/"
        },
        "id": "msCgksNw3EdH",
        "outputId": "ad7cf491-1be0-4095-c3f0-3c2422a098a5"
      },
      "execution_count": null,
      "outputs": [
        {
          "output_type": "stream",
          "name": "stdout",
          "text": [
            "(60000, 784) (10000, 784)\n"
          ]
        }
      ]
    },
    {
      "cell_type": "markdown",
      "source": [
        "## Convertendo as entradas para float32 e colocando no range (0, 1) para simplificar o treinamento"
      ],
      "metadata": {
        "id": "avYtVT7R2nxu"
      }
    },
    {
      "cell_type": "code",
      "source": [
        "X_train = X_train.astype('float32')\n",
        "X_test = X_test.astype('float32')\n",
        "X_train /= 255\n",
        "X_test /= 255"
      ],
      "metadata": {
        "id": "3tGiJn_52Va8"
      },
      "execution_count": null,
      "outputs": []
    },
    {
      "cell_type": "code",
      "source": [
        "print(X_train.shape, X_test.shape)"
      ],
      "metadata": {
        "colab": {
          "base_uri": "https://localhost:8080/"
        },
        "id": "2ReFJrWX2Wq0",
        "outputId": "1d813f4d-ee66-43d8-bf99-18cca2f42d62"
      },
      "execution_count": null,
      "outputs": [
        {
          "output_type": "stream",
          "name": "stdout",
          "text": [
            "(60000, 784) (10000, 784)\n"
          ]
        }
      ]
    },
    {
      "cell_type": "markdown",
      "source": [
        "## Transformando a target em categorica\n"
      ],
      "metadata": {
        "id": "MTqerTl13Sof"
      }
    },
    {
      "cell_type": "code",
      "source": [
        "# Selecionando o número de classes\n",
        "num_classes = len(np.unique(y_train))\n",
        "\n",
        "y_train = to_categorical(y_train, num_classes)\n",
        "y_test = to_categorical(y_test, num_classes)"
      ],
      "metadata": {
        "id": "5039usQ93Msg"
      },
      "execution_count": null,
      "outputs": []
    },
    {
      "cell_type": "markdown",
      "source": [
        "## Treinando a Rede Neural"
      ],
      "metadata": {
        "id": "vXFzTUMs4oRA"
      }
    },
    {
      "cell_type": "code",
      "source": [
        "# hidden_layer_sizes - Número de Neurônios da Camada Escondida.\n",
        "# batch_size - Tamanho de mini-batch para otimizadores estocásticos.  Se o solver for 'lbfgs', o classificador não usará o mini-batch.  Quando definido como “automático”.\n",
        "#   - Estocástico: atualiza os pesos depois de um exemplo;\n",
        "#   - Mini-batch: atualiza os pesos depois de ver um batch de exemplos;\n",
        "#   - Gradiente descendente: atualiza os pesos depois de ver o treinamento inteiro.\n",
        "# learning_rate_init - Taxa de aprendizado para atualizações de peso. \n",
        "# verbose - As mensagens de progresso são impressas.\n",
        "# alpha - Força do prazo de regularização L2. O prazo de regularização L2 é dividido pelo tamanho da amostra quando adicionado à perda.\n",
        "model = MLPClassifier(\n",
        "    hidden_layer_sizes=(), \n",
        "    batch_size=32, \n",
        "    learning_rate_init=0.0005, \n",
        "    verbose=True, \n",
        "    alpha=0.1, \n",
        "    random_state=42\n",
        ")\n",
        "\n",
        "model.fit(X_train, y_train)"
      ],
      "metadata": {
        "colab": {
          "base_uri": "https://localhost:8080/"
        },
        "id": "2QP7a5gC4BSE",
        "outputId": "aa3890ef-5153-4e12-f048-5c0c716903e2"
      },
      "execution_count": null,
      "outputs": [
        {
          "output_type": "stream",
          "name": "stdout",
          "text": [
            "Iteration 1, loss = 1.58853624\n",
            "Iteration 2, loss = 1.19297392\n",
            "Iteration 3, loss = 1.13676837\n",
            "Iteration 4, loss = 1.11087175\n",
            "Iteration 5, loss = 1.09373046\n",
            "Iteration 6, loss = 1.08126685\n",
            "Iteration 7, loss = 1.07162826\n",
            "Iteration 8, loss = 1.06522108\n",
            "Iteration 9, loss = 1.05991806\n",
            "Iteration 10, loss = 1.05553832\n",
            "Iteration 11, loss = 1.05046336\n",
            "Iteration 12, loss = 1.04856286\n",
            "Iteration 13, loss = 1.04557075\n",
            "Iteration 14, loss = 1.04308554\n",
            "Iteration 15, loss = 1.04088811\n",
            "Iteration 16, loss = 1.04040851\n",
            "Iteration 17, loss = 1.03863655\n",
            "Iteration 18, loss = 1.03850514\n",
            "Iteration 19, loss = 1.03711865\n",
            "Iteration 20, loss = 1.03601966\n",
            "Iteration 21, loss = 1.03496568\n",
            "Iteration 22, loss = 1.03475713\n",
            "Iteration 23, loss = 1.03507650\n",
            "Iteration 24, loss = 1.03422410\n",
            "Iteration 25, loss = 1.03381303\n",
            "Iteration 26, loss = 1.03340912\n",
            "Iteration 27, loss = 1.03305344\n",
            "Iteration 28, loss = 1.03344771\n",
            "Iteration 29, loss = 1.03234010\n",
            "Iteration 30, loss = 1.03263463\n",
            "Iteration 31, loss = 1.03266710\n",
            "Iteration 32, loss = 1.03231360\n",
            "Iteration 33, loss = 1.03237413\n",
            "Iteration 34, loss = 1.03329685\n",
            "Iteration 35, loss = 1.03142652\n",
            "Iteration 36, loss = 1.03251254\n",
            "Iteration 37, loss = 1.03162492\n",
            "Iteration 38, loss = 1.03149652\n",
            "Iteration 39, loss = 1.03237740\n",
            "Iteration 40, loss = 1.03165301\n",
            "Iteration 41, loss = 1.03182391\n",
            "Iteration 42, loss = 1.03028183\n",
            "Iteration 43, loss = 1.03184846\n",
            "Iteration 44, loss = 1.03140372\n",
            "Iteration 45, loss = 1.03160298\n",
            "Iteration 46, loss = 1.03097936\n",
            "Iteration 47, loss = 1.03156478\n",
            "Iteration 48, loss = 1.03146066\n",
            "Iteration 49, loss = 1.03158014\n",
            "Iteration 50, loss = 1.03073380\n",
            "Iteration 51, loss = 1.03139718\n",
            "Iteration 52, loss = 1.03151637\n",
            "Iteration 53, loss = 1.03134016\n",
            "Training loss did not improve more than tol=0.000100 for 10 consecutive epochs. Stopping.\n"
          ]
        },
        {
          "output_type": "execute_result",
          "data": {
            "text/plain": [
              "MLPClassifier(alpha=0.1, batch_size=32, hidden_layer_sizes=(),\n",
              "              learning_rate_init=0.0005, random_state=42, verbose=True)"
            ]
          },
          "metadata": {},
          "execution_count": 14
        }
      ]
    },
    {
      "cell_type": "markdown",
      "source": [
        "## Plotando o gráfico"
      ],
      "metadata": {
        "id": "HNDIEGcG_Kpp"
      }
    },
    {
      "cell_type": "code",
      "source": [
        "# Expecificando o tamanho da imagem.\n",
        "plt.rcParams['figure.figsize'] = 10, 10\n",
        "plt.plot(list(range(len(model.loss_curve_))), model.loss_curve_)\n",
        "plt.xlabel('Número de Interações');"
      ],
      "metadata": {
        "colab": {
          "base_uri": "https://localhost:8080/",
          "height": 606
        },
        "id": "f8pKCepB4Xiz",
        "outputId": "764c6a59-6f3d-4db6-e315-e624fbe11d26"
      },
      "execution_count": null,
      "outputs": [
        {
          "output_type": "display_data",
          "data": {
            "text/plain": [
              "<Figure size 720x720 with 1 Axes>"
            ],
            "image/png": "[encoded data removed]"
          },
          "metadata": {
            "needs_background": "light"
          }
        }
      ]
    },
    {
      "cell_type": "markdown",
      "source": [
        "## Medindo a Acurácia do modelo"
      ],
      "metadata": {
        "id": "nGaKdpAkB5Xl"
      }
    },
    {
      "cell_type": "code",
      "source": [
        "# Medindo a acurácia\n",
        "print('Accuracy:', model.score(X_test, y_test)*100,'%')"
      ],
      "metadata": {
        "colab": {
          "base_uri": "https://localhost:8080/"
        },
        "id": "8IM5vZGF_M0W",
        "outputId": "4daf0c71-9b61-4b3c-d46d-c4fa3672bda1"
      },
      "execution_count": null,
      "outputs": [
        {
          "output_type": "stream",
          "name": "stdout",
          "text": [
            "Accuracy: 71.1 %\n"
          ]
        }
      ]
    }
  ]
}